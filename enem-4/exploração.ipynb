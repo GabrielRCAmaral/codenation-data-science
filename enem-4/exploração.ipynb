{
 "cells": [
  {
   "cell_type": "code",
   "execution_count": 1,
   "metadata": {},
   "outputs": [],
   "source": [
    "import pandas as pd"
   ]
  },
  {
   "cell_type": "code",
   "execution_count": 17,
   "metadata": {},
   "outputs": [],
   "source": [
    "df_train = pd.read_csv(\"train.csv\")\n",
    "df_test=pd.read_csv(\"test.csv\")"
   ]
  },
  {
   "cell_type": "code",
   "execution_count": 18,
   "metadata": {},
   "outputs": [],
   "source": [
    "columns=df_test.columns.tolist()\n",
    "columns.append('NU_NOTA_MT')\n",
    "columns.append('IN_TREINEIRO')"
   ]
  },
  {
   "cell_type": "code",
   "execution_count": 20,
   "metadata": {},
   "outputs": [
    {
     "data": {
      "text/plain": [
       "NU_INSCRICAO               object\n",
       "CO_UF_RESIDENCIA            int64\n",
       "SG_UF_RESIDENCIA           object\n",
       "NU_IDADE                    int64\n",
       "TP_SEXO                    object\n",
       "TP_COR_RACA                 int64\n",
       "TP_NACIONALIDADE            int64\n",
       "TP_ST_CONCLUSAO             int64\n",
       "TP_ANO_CONCLUIU             int64\n",
       "TP_ESCOLA                   int64\n",
       "TP_ENSINO                 float64\n",
       "TP_DEPENDENCIA_ADM_ESC    float64\n",
       "IN_BAIXA_VISAO              int64\n",
       "IN_CEGUEIRA                 int64\n",
       "IN_SURDEZ                   int64\n",
       "IN_DISLEXIA                 int64\n",
       "IN_DISCALCULIA              int64\n",
       "IN_SABATISTA                int64\n",
       "IN_GESTANTE                 int64\n",
       "IN_IDOSO                    int64\n",
       "TP_PRESENCA_CN              int64\n",
       "TP_PRESENCA_CH              int64\n",
       "TP_PRESENCA_LC              int64\n",
       "TP_PRESENCA_MT              int64\n",
       "NU_NOTA_CN                float64\n",
       "NU_NOTA_CH                float64\n",
       "NU_NOTA_LC                float64\n",
       "TP_LINGUA                   int64\n",
       "TP_STATUS_REDACAO         float64\n",
       "NU_NOTA_COMP1             float64\n",
       "NU_NOTA_COMP2             float64\n",
       "NU_NOTA_COMP3             float64\n",
       "NU_NOTA_COMP4             float64\n",
       "NU_NOTA_COMP5             float64\n",
       "NU_NOTA_REDACAO           float64\n",
       "Q001                       object\n",
       "Q002                       object\n",
       "Q006                       object\n",
       "Q024                       object\n",
       "Q025                       object\n",
       "Q026                       object\n",
       "Q027                       object\n",
       "Q047                       object\n",
       "NU_NOTA_MT                float64\n",
       "IN_TREINEIRO                int64\n",
       "dtype: object"
      ]
     },
     "execution_count": 20,
     "metadata": {},
     "output_type": "execute_result"
    }
   ],
   "source": [
    "df_train = df_train[columns]\n",
    "df_train.dtypes"
   ]
  },
  {
   "cell_type": "code",
   "execution_count": null,
   "metadata": {},
   "outputs": [],
   "source": []
  }
 ],
 "metadata": {
  "kernelspec": {
   "display_name": "Python 3",
   "language": "python",
   "name": "python3"
  },
  "language_info": {
   "codemirror_mode": {
    "name": "ipython",
    "version": 3
   },
   "file_extension": ".py",
   "mimetype": "text/x-python",
   "name": "python",
   "nbconvert_exporter": "python",
   "pygments_lexer": "ipython3",
   "version": "3.7.6"
  }
 },
 "nbformat": 4,
 "nbformat_minor": 4
}
